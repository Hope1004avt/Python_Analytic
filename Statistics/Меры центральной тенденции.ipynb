{
 "cells": [
  {
   "cell_type": "code",
   "execution_count": null,
   "metadata": {},
   "outputs": [],
   "source": [
    "import matplotlib.pyplot as plt\n",
    "import numpy as np\n",
    "import pandas as pd"
   ]
  },
  {
   "cell_type": "markdown",
   "metadata": {},
   "source": [
    "Входные данные"
   ]
  },
  {
   "cell_type": "code",
   "execution_count": null,
   "metadata": {},
   "outputs": [],
   "source": [
    "data = [185, 175, 170, 169, 171, 172, 175, 157, \n",
    "        170, 172, 167, 173, 168, 167, 166, 167, 169,\n",
    "        172, 177, 178, 165, 161, 179, 159, 164, 178,\n",
    "        172, 170, 173, 171]\n",
    "\n"
   ]
  },
  {
   "cell_type": "markdown",
   "metadata": {},
   "source": [
    "Считываем моду/моды \n",
    "Мода - значение измеряемого признака, которые встречается максимально часто. "
   ]
  },
  {
   "cell_type": "code",
   "execution_count": null,
   "metadata": {},
   "outputs": [],
   "source": [
    "series = pd.Series(data)\n",
    "modes = list(series.mode())"
   ]
  },
  {
   "cell_type": "markdown",
   "metadata": {},
   "source": [
    "Создание оси и создание графика   "
   ]
  },
  {
   "cell_type": "code",
   "execution_count": null,
   "metadata": {},
   "outputs": [],
   "source": [
    "count = series.value_counts()\n",
    "x_points = np.array(count.keys())\n",
    "y_points = np.array(count)\n",
    "fig, ax = plt.subplots()\n",
    "ax.bar(x_points, y_points, width=0.5)\n",
    "ax.set_ylim(0, 6)\n",
    "ax.set_xlabel('Height')\n",
    "ax.set_ylabel('Count')\n",
    "\n",
    "for mode in modes:\n",
    "    y = count[mode]\n",
    "    ax.annotate('mode', xy=(mode, y), xycoords='data', xytext=(mode - 0.5, y + 0.2),\n",
    "                rotation = 90, color='red')\n",
    "plt.show()"
   ]
  }
 ],
 "metadata": {
  "kernelspec": {
   "display_name": "Python 3",
   "language": "python",
   "name": "python3"
  },
  "language_info": {
   "codemirror_mode": {
    "name": "ipython",
    "version": 3
   },
   "file_extension": ".py",
   "mimetype": "text/x-python",
   "name": "python",
   "nbconvert_exporter": "python",
   "pygments_lexer": "ipython3",
   "version": "3.11.9"
  }
 },
 "nbformat": 4,
 "nbformat_minor": 2
}
