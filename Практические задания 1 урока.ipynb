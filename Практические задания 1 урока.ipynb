{
 "cells": [
  {
   "cell_type": "markdown",
   "id": "3745e6cb",
   "metadata": {},
   "source": [
    "# Домашние задания первого урока."
   ]
  },
  {
   "cell_type": "markdown",
   "id": "25a02e27",
   "metadata": {},
   "source": [
    "**1. Начнём с простого: сохраните в переменную age произвольный возраст, выраженный целым числом, а в переменную name – какое-нибудь имя в виде строки.**"
   ]
  },
  {
   "cell_type": "code",
   "execution_count": 1,
   "id": "fbf988e0",
   "metadata": {},
   "outputs": [],
   "source": [
    "age = 25\n",
    "name = 'Alex'"
   ]
  },
  {
   "cell_type": "markdown",
   "id": "acba157f",
   "metadata": {},
   "source": [
    "**2. Создайте список user_info, содержащий 4 элемента в следующем порядке:**\n",
    "\n",
    "* 2 строки (имя и фамилия пользователя)\n",
    "* 1 дробное число (зарплата)\n",
    "* 1 целое число (стаж)"
   ]
  },
  {
   "cell_type": "code",
   "execution_count": 2,
   "id": "24c0e28a",
   "metadata": {},
   "outputs": [],
   "source": [
    "user_info = ['Alex', 'Rodikov', 52.5, 3]"
   ]
  },
  {
   "cell_type": "markdown",
   "id": "28c5df1f",
   "metadata": {},
   "source": [
    "**3. Поместите в переменную first первый (т.е. нулевой) элемент из списка salaries.**\n",
    "\n",
    "**Сам список создавать не нужно, он уже находится в переменной salaries. Пример данных, которые могут в нем быть:**\n",
    "\n",
    "[42, 100, 70, 80]"
   ]
  },
  {
   "cell_type": "code",
   "execution_count": 4,
   "id": "6a97a937",
   "metadata": {},
   "outputs": [],
   "source": [
    "salaries = [42, 100, 70, 80]\n",
    "first = []\n",
    "first = salaries[0]"
   ]
  },
  {
   "cell_type": "markdown",
   "id": "e28e4e2e",
   "metadata": {},
   "source": [
    "**4. Добавьте в уже созданный список users элементы 'Voronov' и 42.**\n",
    "\n",
    "**Сам список создавать не нужно, он уже находится в переменной users.**\n"
   ]
  },
  {
   "cell_type": "code",
   "execution_count": null,
   "id": "11d40507",
   "metadata": {},
   "outputs": [],
   "source": [
    "users.append('Voronov')\n",
    "users.append(42)"
   ]
  },
  {
   "cell_type": "markdown",
   "id": "2ac26ee5",
   "metadata": {},
   "source": [
    "**4. В переменной user_ages содержится список возрастов клиентов. Напишите цикл, выводящий на печать элементы больше 18.**\n",
    "\n",
    "**Сам список создавать не нужно, он уже находится в переменной user_ages. Пример данных, которые могут быть в user_ages:**\n",
    "\n",
    "user_ages = [10, 18, 21, 35, 42, 27, 12, 16]\n",
    "\n",
    "**Note: в этом задании эти числа нужно печатать (используйте функцию print).**\n",
    "\n"
   ]
  },
  {
   "cell_type": "code",
   "execution_count": null,
   "id": "50cf4adf",
   "metadata": {},
   "outputs": [],
   "source": [
    "for i in user_ages:\n",
    "    if i > 18:\n",
    "        print(i)"
   ]
  },
  {
   "cell_type": "markdown",
   "id": "3bac88c0",
   "metadata": {},
   "source": [
    "**5. Напишите программу, проверяющую стаж работы сотрудника. В переменной worker уже содержится список, содержащий значения как во 2-м задании (имя, фамилия, зарплата, стаж). Поместите в переменную status следующую строку:**\n",
    "\n",
    "user_name user_family is position\n",
    "\n",
    "**где user_name и user_family — имя и фамилия сотрудника, а position — одно из следующих значений:**\n",
    "\n",
    "'junior' — стаж меньше 2 лет\n",
    "\n",
    "'middle' — стаж больше либо равен 2 лет и меньше или равен 5\n",
    "\n",
    "'senior' — стаж больше 5 лет \n",
    "\n",
    "Пример данных, которые могут быть в worker:\n",
    "\n",
    "worker = ['Olya', 'Silyutina', 350000, 3]\n",
    "\n",
    "**Hint: печатать результат не нужно, просто запишите его в переменную status.**"
   ]
  },
  {
   "cell_type": "code",
   "execution_count": null,
   "id": "27f13123",
   "metadata": {},
   "outputs": [],
   "source": [
    "ages = worker[3]\n",
    "user_name = worker[0]\n",
    "user_family = worker[1]\n",
    "if ages < 2:\n",
    "    position = 'junior'\n",
    "elif 2 < ages <= 5:\n",
    "    position = 'middle'\n",
    "else:\n",
    "    position = 'senior'\n",
    "status = f'{user_name} {user_family} is {position}'"
   ]
  },
  {
   "cell_type": "markdown",
   "id": "62ea4f6d",
   "metadata": {},
   "source": [
    "**6. В списке values содержатся числовые значения. Создайте список tens и добавьте в него все числа из values, которые делятся на 10 нацело.**\n",
    "\n",
    "**Сам список создавать не нужно, он уже находится в переменной values. Пример данных, которые могут быть в values:**\n",
    "\n",
    "values = [12, 134, 10, 47, 100, 20, 50, 160, 210]\n",
    "\n"
   ]
  },
  {
   "cell_type": "code",
   "execution_count": null,
   "id": "cdfaabb9",
   "metadata": {},
   "outputs": [],
   "source": [
    "tens = []\n",
    "for i in values:\n",
    "    if i % 10 == 0:\n",
    "        tens.append(i)"
   ]
  },
  {
   "cell_type": "markdown",
   "id": "3c29300c",
   "metadata": {},
   "source": [
    "**7. ⭐️ Задание со звёздочкой! ⭐️**\n",
    "\n",
    "**Реализуйте цикл, который пробегается по уже созданному списку workers со значениями как в 2-м и 6-м заданиях и выводит для каждого сотрудника следующую строку (то есть печатает её для каждого элемента списка):**\n",
    "\n",
    "user_name user_family is position\n",
    "\n",
    "**где user_name и user_family — имя и фамилия сотрудника, а position — одна из следующих строк:**\n",
    "\n",
    "'junior' — стаж меньше 2 лет\n",
    "\n",
    "'middle' — стаж больше либо равен 2 и меньше или равен 5\n",
    "\n",
    "'senior' — стаж строго больше 5 лет \n",
    "\n",
    "**Сам список создавать не нужно, он уже находится в переменной workers. Пример данных, которые могут быть в workers:**\n",
    "\n",
    "workers = [['Ivan', 'Ivanov', 100000, 2], ['Petr', 'Petrov', 150000, 2], ['Sidor', 'Sidorov', 200000, 3]]"
   ]
  },
  {
   "cell_type": "code",
   "execution_count": null,
   "id": "e4fcb39d",
   "metadata": {},
   "outputs": [],
   "source": [
    "for i in range(len(workers)):\n",
    "    user_name = workers[i][0]\n",
    "    user_family = workers[i][1]\n",
    "    if workers[i][3] < 2:\n",
    "        position ='junior'\n",
    "    elif 2<=workers[i][3]<=5:\n",
    "        position ='middle'\n",
    "    else: position ='senior'\n",
    "    status = f'{user_name} {user_family} is {position}'\n",
    "    print(status)"
   ]
  },
  {
   "cell_type": "markdown",
   "id": "d57125db",
   "metadata": {},
   "source": [
    "**8.⭐️ Задание со звёздочкой! ⭐️**\n",
    "\n",
    "**Поместите в список lst числа от 0 (n = 0) до 10 включительно (N = 10) c шагом 2 (dn = 2). Для этого используйте условие while.**\n",
    "\n",
    "**Note: необходимо создать переменную lst, а переменные n, N, dn создавать не нужно. Итоговый список печатать тоже не нужно.**"
   ]
  },
  {
   "cell_type": "code",
   "execution_count": null,
   "id": "7482c063",
   "metadata": {},
   "outputs": [],
   "source": [
    "lst = []\n",
    "while n < N:\n",
    "    for i in range(n, N + 1, dn):\n",
    "        lst.append(i)\n",
    "        n += dn"
   ]
  },
  {
   "cell_type": "markdown",
   "id": "649e50eb",
   "metadata": {},
   "source": [
    "**9. На предыдущих шагах вы сталкивались с различными характеристиками пользователей, которые были сохранены в списках. Теперь попробуем собрать нужную информацию в словарь!**\n",
    "\n",
    "**Начнем с небольшого, где:**\n",
    "\n",
    "* ключом будет название характеристики\n",
    "\n",
    "* значением – её значение\n",
    "\n",
    "В словарь поместите следующую информацию:\n",
    "\n",
    "характеристика\t| значение\n",
    "----------------|---------\n",
    "name\t| Masha\n",
    "surname |\tVolkova\n",
    "age |\t25 \n",
    "salary |\t60000\n",
    "position |\tjunior\n",
    "\n",
    "**Результат сохраните в переменную salaries_dict.**"
   ]
  },
  {
   "cell_type": "code",
   "execution_count": null,
   "id": "afc6d226",
   "metadata": {},
   "outputs": [],
   "source": [
    "salaries_dict = {'name': 'Masha', 'surname': 'Volkova', 'age': 25, 'salary': 60000, 'position': 'junior'}"
   ]
  },
  {
   "cell_type": "markdown",
   "id": "9c5525c4",
   "metadata": {},
   "source": [
    "**10. Теперь усложним задачу. Создайте словарь, где:**\n",
    "\n",
    "* **Ключом** будет логин пользователя (login)\n",
    "* В качестве **значения** – словарь с характеристиками (как на предыдущем шаге) для этого пользователя\n",
    "\n",
    "\n",
    "login|name|surname|age|salary|position\n",
    "-----|----|-------|---|------|---------\n",
    "mvolkova|\tMasha\t|Volkova\t|25|\t60000\t|junior\n",
    "pvoronov|\tPeter\t|Voronov\t|27\t|100000\t|junior\n",
    "pparker\t|Peter\t|Parker\t|35\t|150000\t|middle\n",
    "akarpov\t|Anatoly\t|Karpov\t|30\t|250000\t|senior\n",
    "\n",
    "**Таким образом, по ключу мы сможем получить всю информацию о нужном пользователе. Обратиться к такому элементу можно, например, с помощью: users_dict['mvolkova']['name'], где в первых скобках указывается логин (первый ключ), а во вторых – название характеристики, значение которой мы хотим получить.**\n",
    "\n",
    "**Пример итоговой структуры:**\n",
    "\n",
    "{\n",
    "\n",
    "'masha_volkova' : {'name' : 'Masha', ...},\n",
    "\n",
    "'peter_voronov' : {'name' : 'Peter', ...}, \n",
    "\n",
    "...\n",
    "\n",
    "}\n",
    "\n",
    "**Результат запишите в переменную users_dict.**"
   ]
  },
  {
   "cell_type": "code",
   "execution_count": null,
   "id": "d6b207c0",
   "metadata": {},
   "outputs": [],
   "source": [
    "users_dict = {\n",
    "    'mvolkova': {'name': 'Masha', 'surname': 'Volkova', 'age': 25, 'salary': 60000, 'position': 'junior'},\n",
    "    'pvoronov': {'name': 'Peter', 'surname': 'Voronov', 'age': 27, 'salary': 100000, 'position': 'junior'},\n",
    "    'pparker' : {'name': 'Peter', 'surname': 'Parker', 'age': 35, 'salary': 150000, 'position': 'middle'},\n",
    "    'akarpov' : {'name': 'Anatoly', 'surname': 'Karpov', 'age': 30, 'salary': 250000, 'position': 'senior'}\n",
    "}"
   ]
  }
 ],
 "metadata": {
  "kernelspec": {
   "display_name": "Python 3 (ipykernel)",
   "language": "python",
   "name": "python3"
  },
  "language_info": {
   "codemirror_mode": {
    "name": "ipython",
    "version": 3
   },
   "file_extension": ".py",
   "mimetype": "text/x-python",
   "name": "python",
   "nbconvert_exporter": "python",
   "pygments_lexer": "ipython3",
   "version": "3.10.4"
  }
 },
 "nbformat": 4,
 "nbformat_minor": 5
}
